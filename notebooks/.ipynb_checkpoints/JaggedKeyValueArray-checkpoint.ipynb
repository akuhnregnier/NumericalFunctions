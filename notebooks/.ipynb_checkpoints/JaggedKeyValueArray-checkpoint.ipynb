{
 "cells": [
  {
   "cell_type": "markdown",
   "metadata": {},
   "source": [
    "# JaggedKeyValueAray\n"
   ]
  },
  {
   "cell_type": "markdown",
   "metadata": {},
   "source": [
    "This is a variation of a sparse matrix or Pandas dataframe.\n",
    "\n",
    "Unlike sparse matrices, it has labelled columns.\n",
    "\n",
    "Unlike sparse dataframes, it provides an interface for efficient iteration, over rows, of the non-zero values."
   ]
  },
  {
   "cell_type": "code",
   "execution_count": 4,
   "metadata": {
    "collapsed": false
   },
   "outputs": [
    {
     "data": {
      "text/plain": [
       "[\n",
       "\t(array([1]), array([10])),\n",
       "\t(array([1, 2, 3]), array([21, 22, 23])),\n",
       "\t(array([2, 3]), array([32, 33])),\n",
       "]"
      ]
     },
     "execution_count": 4,
     "metadata": {},
     "output_type": "execute_result"
    }
   ],
   "source": [
    "from jagged_array.jagged_key_value_array import JaggedKeyValueArray\n",
    "\n",
    "\n",
    "keys   = [ [ 1 ],  [ 1 , 2 , 3 ],  [ 2 , 3 ] ]\n",
    "values = [ [ 10 ], [ 21, 22, 23 ], [ 32, 33 ] ]\n",
    "\n",
    "arr = JaggedKeyValueArray.from_lists( keys, values )\n",
    "arr"
   ]
  },
  {
   "cell_type": "code",
   "execution_count": 7,
   "metadata": {
    "collapsed": false
   },
   "outputs": [
    {
     "name": "stdout",
     "output_type": "stream",
     "text": [
      "[[10  0  0]\n",
      " [21 22 23]\n",
      " [ 0 32 33]]\n",
      "[1 2 3]\n"
     ]
    }
   ],
   "source": [
    "data, cols = arr.to_dense()\n",
    "print( data )\n",
    "print( cols )"
   ]
  },
  {
   "cell_type": "code",
   "execution_count": null,
   "metadata": {
    "collapsed": true
   },
   "outputs": [],
   "source": []
  }
 ],
 "metadata": {
  "kernelspec": {
   "display_name": "Python 3",
   "language": "python",
   "name": "python3"
  },
  "language_info": {
   "codemirror_mode": {
    "name": "ipython",
    "version": 3
   },
   "file_extension": ".py",
   "mimetype": "text/x-python",
   "name": "python",
   "nbconvert_exporter": "python",
   "pygments_lexer": "ipython3",
   "version": "3.3.5"
  }
 },
 "nbformat": 4,
 "nbformat_minor": 0
}
