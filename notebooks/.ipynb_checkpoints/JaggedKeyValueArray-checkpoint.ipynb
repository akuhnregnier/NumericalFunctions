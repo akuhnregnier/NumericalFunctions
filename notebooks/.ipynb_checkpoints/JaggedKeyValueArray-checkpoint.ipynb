{
 "cells": [
  {
   "cell_type": "markdown",
   "metadata": {},
   "source": [
    "# JaggedKeyValueAray\n"
   ]
  },
  {
   "cell_type": "markdown",
   "metadata": {},
   "source": [
    "This is a variation of a sparse matrix or Pandas dataframe.\n",
    "\n",
    "Unlike sparse matrices, it has labelled columns.\n",
    "\n",
    "Unlike sparse dataframes, it provides an interface for efficient iteration, over rows, of the non-zero values."
   ]
  },
  {
   "cell_type": "code",
   "execution_count": 18,
   "metadata": {
    "collapsed": false
   },
   "outputs": [
    {
     "data": {
      "text/plain": [
       "[\n",
       "\t(array([1]), array([10])),\n",
       "\t(array([1, 2, 3]), array([21, 22, 23])),\n",
       "\t(array([2, 3]), array([32, 33])),\n",
       "]"
      ]
     },
     "execution_count": 18,
     "metadata": {},
     "output_type": "execute_result"
    }
   ],
   "source": [
    "from jagged_array.jagged_key_value_array import JaggedKeyValueArray\n",
    "\n",
    "\n",
    "keys   = [ [ 1 ],  [ 1 , 2 , 3 ],  [ 2 , 3 ] ]\n",
    "values = [ [ 10 ], [ 21, 22, 23 ], [ 32, 33 ] ]\n",
    "\n",
    "arr = JaggedKeyValueArray.from_lists( keys, values )\n",
    "arr"
   ]
  },
  {
   "cell_type": "markdown",
   "metadata": {},
   "source": [
    "An example of array access:"
   ]
  },
  {
   "cell_type": "code",
   "execution_count": 20,
   "metadata": {
    "collapsed": false
   },
   "outputs": [
    {
     "name": "stdout",
     "output_type": "stream",
     "text": [
      "arr[0]: (array([1]), array([10]))\n"
     ]
    }
   ],
   "source": [
    "print( 'arr[0]: %s'%str(arr[0]))"
   ]
  },
  {
   "cell_type": "markdown",
   "metadata": {},
   "source": [
    "An example of array slicing:"
   ]
  },
  {
   "cell_type": "code",
   "execution_count": 22,
   "metadata": {
    "collapsed": false
   },
   "outputs": [
    {
     "data": {
      "text/plain": [
       "[\n",
       "\t(array([1]), array([10])),\n",
       "\t(array([1, 2, 3]), array([21, 22, 23])),\n",
       "]"
      ]
     },
     "execution_count": 22,
     "metadata": {},
     "output_type": "execute_result"
    }
   ],
   "source": [
    "arr[:2]"
   ]
  },
  {
   "cell_type": "markdown",
   "metadata": {},
   "source": [
    "An example of iterating over the array:"
   ]
  },
  {
   "cell_type": "code",
   "execution_count": 17,
   "metadata": {
    "collapsed": false
   },
   "outputs": [
    {
     "name": "stdout",
     "output_type": "stream",
     "text": [
      "keys: [1], values: [10]\n",
      "keys: [1 2 3], values: [21 22 23]\n",
      "keys: [2 3], values: [32 33]\n"
     ]
    }
   ],
   "source": [
    "for row_keys, row_vals in arr:\n",
    "    print( 'keys: %s, values: %s'%( row_keys, row_vals  ) )"
   ]
  },
  {
   "cell_type": "code",
   "execution_count": 3,
   "metadata": {
    "collapsed": false
   },
   "outputs": [
    {
     "name": "stdout",
     "output_type": "stream",
     "text": [
      "[[10  0  0]\n",
      " [21 22 23]\n",
      " [ 0 32 33]]\n",
      "[1 2 3]\n"
     ]
    }
   ],
   "source": [
    "data, cols = arr.to_dense()\n",
    "print( data )\n",
    "print( cols )"
   ]
  },
  {
   "cell_type": "code",
   "execution_count": 8,
   "metadata": {
    "collapsed": false
   },
   "outputs": [
    {
     "data": {
      "text/plain": [
       "[\n",
       "\t(array([1]), array([10])),\n",
       "\t(array([1, 2, 3]), array([21, 22, 23])),\n",
       "\t(array([2, 3]), array([32, 33])),\n",
       "]"
      ]
     },
     "execution_count": 8,
     "metadata": {},
     "output_type": "execute_result"
    }
   ],
   "source": [
    "arr2 = JaggedKeyValueArray.from_dense( data, cols )\n",
    "assert arr==arr2\n",
    "arr2"
   ]
  },
  {
   "cell_type": "code",
   "execution_count": 13,
   "metadata": {
    "collapsed": false
   },
   "outputs": [
    {
     "name": "stdout",
     "output_type": "stream",
     "text": [
      "Beginning cumsum\n",
      "cumsum took 0.0005 seconds\n",
      "[\n",
      "\t(array([1]), array([10])),\n",
      "\t(array([1, 2, 3]), array([31, 22, 23])),\n",
      "\t(array([1, 2, 3]), array([31, 54, 56])),\n",
      "]\n"
     ]
    }
   ],
   "source": [
    "from numerical_functions.misc.timer import Timer\n",
    "\n",
    "with Timer( 'cumsum' ):\n",
    "    data, cols = arr.to_dense()\n",
    "    dense_cs = data.cumsum( axis=0 )\n",
    "    sparse_cs = JaggedKeyValueArray.from_dense( dense_cs, cols )\n",
    "print( sparse_cs )"
   ]
  }
 ],
 "metadata": {
  "kernelspec": {
   "display_name": "Python 3",
   "language": "python",
   "name": "python3"
  },
  "language_info": {
   "codemirror_mode": {
    "name": "ipython",
    "version": 3
   },
   "file_extension": ".py",
   "mimetype": "text/x-python",
   "name": "python",
   "nbconvert_exporter": "python",
   "pygments_lexer": "ipython3",
   "version": "3.3.5"
  }
 },
 "nbformat": 4,
 "nbformat_minor": 0
}
