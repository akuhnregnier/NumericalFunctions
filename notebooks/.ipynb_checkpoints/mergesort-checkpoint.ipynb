{
 "cells": [
  {
   "cell_type": "code",
   "execution_count": 4,
   "metadata": {
    "collapsed": true
   },
   "outputs": [],
   "source": [
    "import numerical_functions.numba_funcs.sorting_and_searching as sas\n",
    "from numerical_functions.misc.timer import Timer\n",
    "import numpy as np"
   ]
  },
  {
   "cell_type": "code",
   "execution_count": 5,
   "metadata": {
    "collapsed": false
   },
   "outputs": [
    {
     "name": "stdout",
     "output_type": "stream",
     "text": [
      "[1 2 3]\n"
     ]
    }
   ],
   "source": [
    "x = np.array( [ 3, 2, 1 ] )\n",
    "r = sas.merge( x )\n",
    "print( r )"
   ]
  },
  {
   "cell_type": "code",
   "execution_count": 25,
   "metadata": {
    "collapsed": false,
    "scrolled": true
   },
   "outputs": [
    {
     "name": "stdout",
     "output_type": "stream",
     "text": [
      "nb/np performance 20.0 0.25600000001273293\n",
      "nb/np performance 120.0 0.6153846155107472\n",
      "nb/np performance 221.0 0.6610169490872239\n",
      "nb/np performance 322.0 1.7058823536787642\n",
      "nb/np performance 423.0 1.5909090906742007\n",
      "nb/np performance 524.0 1.8333333326425278\n",
      "nb/np performance 624.0 1.8214285713741931\n",
      "nb/np performance 725.0 1.7142857145757318\n",
      "nb/np performance 826.0 1.7894736846829093\n",
      "nb/np performance 927.0 1.8139534878725228\n",
      "nb/np performance 1028.0 1.9555555556678388\n",
      "nb/np performance 1128.0 1.0941176471571685\n",
      "nb/np performance 1229.0 2.2075471701148635\n",
      "nb/np performance 1330.0 1.8166666664337665\n",
      "nb/np performance 1431.0 1.7352941176839383\n",
      "nb/np performance 1532.0 1.811594202952278\n",
      "nb/np performance 1632.0 1.9066666668965666\n",
      "nb/np performance 1733.0 1.0827067668120514\n",
      "nb/np performance 1834.0 1.741935483777313\n",
      "nb/np performance 1935.0 1.8736842105483604\n",
      "nb/np performance 2036.0 1.8723404256895273\n",
      "nb/np performance 2136.0 1.9278350517261231\n",
      "nb/np performance 2237.0 1.938775509928861\n",
      "nb/np performance 2338.0 1.9902912620234035\n",
      "nb/np performance 2439.0 1.0\n",
      "nb/np performance 2540.0 1.8782608695104157\n",
      "nb/np performance 2641.0 1.9090909091976773\n",
      "nb/np performance 2741.0 1.828124999994796\n",
      "nb/np performance 2842.0 1.8409090909800474\n",
      "nb/np performance 2943.0 1.8666666666877199\n",
      "nb/np performance 3044.0 1.7635135135277866\n",
      "nb/np performance 3145.0 1.9241379310317792\n",
      "nb/np performance 3245.0 1.7870967742621626\n",
      "nb/np performance 3346.0 1.844720496850551\n",
      "nb/np performance 3447.0 1.8625000000754952\n",
      "nb/np performance 3548.0 1.5555555556140364\n",
      "nb/np performance 3649.0 1.8588235294314337\n",
      "nb/np performance 3749.0 1.884393063549628\n",
      "nb/np performance 3850.0 1.8820224718123353\n",
      "nb/np performance 3951.0 1.844086021516467\n",
      "nb/np performance 4052.0 1.9677419354888002\n",
      "nb/np performance 4153.0 2.0\n",
      "nb/np performance 4253.0 1.989417989369852\n",
      "nb/np performance 4354.0 1.9230769230544997\n",
      "nb/np performance 4455.0 1.9246231156234634\n",
      "nb/np performance 4556.0 1.926470588280369\n",
      "nb/np performance 4657.0 1.892018779475845\n",
      "nb/np performance 4757.0 1.9158878504803227\n",
      "nb/np performance 4858.0 1.9351851850883262\n",
      "nb/np performance 4959.0 1.9568965517711343\n",
      "nb/np performance 5060.0 1.700757575761042\n",
      "nb/np performance 5161.0 1.6221498370771588\n",
      "nb/np performance 5262.0 1.5492537313684827\n",
      "nb/np performance 5362.0 1.2133995037520096\n",
      "nb/np performance 5463.0 1.885931558954879\n",
      "nb/np performance 5564.0 1.6609589041724233\n",
      "nb/np performance 5665.0 1.8364312267579437\n",
      "nb/np performance 5766.0 1.818840579703802\n",
      "nb/np performance 5866.0 1.896428571483131\n",
      "nb/np performance 5967.0 2.5492957745971445\n",
      "nb/np performance 6068.0 1.8368055555714893\n",
      "nb/np performance 6169.0 1.8208469055686707\n",
      "nb/np performance 6270.0 1.9058441558062558\n",
      "nb/np performance 6370.0 1.7746913579838088\n",
      "nb/np performance 6471.0 1.8495297805454107\n",
      "nb/np performance 6572.0 1.7559523808949817\n",
      "nb/np performance 6673.0 1.821874999962391\n",
      "nb/np performance 6774.0 1.832817337528589\n",
      "nb/np performance 6874.0 1.837920489314046\n",
      "nb/np performance 6975.0 1.867069486398089\n",
      "nb/np performance 7076.0 1.8397626112596974\n",
      "nb/np performance 7177.0 1.6207729468277334\n",
      "nb/np performance 7278.0 1.7948051947372206\n",
      "nb/np performance 7378.0 2.0706214689486666\n",
      "nb/np performance 7479.0 1.8305555555888897\n",
      "nb/np performance 7580.0 1.861495844796725\n",
      "nb/np performance 7681.0 2.360526315770185\n",
      "nb/np performance 7782.0 1.8769633507617731\n",
      "nb/np performance 7883.0 1.8461538461762697\n",
      "nb/np performance 7983.0 1.8695652174276491\n",
      "nb/np performance 8084.0 1.8453608247301854\n",
      "nb/np performance 8185.0 1.8204488777965604\n",
      "nb/np performance 8286.0 1.9090909091039585\n",
      "nb/np performance 8387.0 1.869135802483951\n",
      "nb/np performance 8487.0 1.888613861386835\n",
      "nb/np performance 8588.0 1.8878048780553744\n",
      "nb/np performance 8689.0 1.8851674640676592\n",
      "nb/np performance 8790.0 1.8788598574850717\n",
      "nb/np performance 8891.0 1.8478260869404035\n",
      "nb/np performance 8991.0 2.0218340611735806\n",
      "nb/np performance 9092.0 1.8873563218284162\n",
      "nb/np performance 9193.0 1.7304526748810551\n",
      "nb/np performance 9294.0 1.8399122807007293\n",
      "nb/np performance 9395.0 1.8736141906908548\n",
      "nb/np performance 9495.0 1.8982300884403467\n",
      "nb/np performance 9596.0 1.6152450090668273\n",
      "nb/np performance 9697.0 2.271784232421114\n",
      "nb/np performance 9798.0 1.9409282699828652\n",
      "nb/np performance 9899.0 1.8900634249541963\n",
      "nb/np performance 10000.0 1.8937500000305312\n"
     ]
    }
   ],
   "source": [
    "n0 = 20\n",
    "n1 = 10000\n",
    "m  = 1\n",
    "\n",
    "ns     = np.floor( np.linspace( n0, n1, 100 ) )\n",
    "#ns     = np.arange( n0, n1 )\n",
    "ratios = np.empty_like( ns )\n",
    "ratios2 = np.empty_like( ns )\n",
    "ratios_qs = np.empty_like( ns )\n",
    "for i, n in enumerate( ns ):\n",
    "    x = np.random.random_integers( 0, n, size=n )\n",
    "\n",
    "    with Timer() as t0:        \n",
    "        for _ in range( m ):\n",
    "            r0 = sas.merge( x )\n",
    "    with Timer() as t0b:        \n",
    "        for _ in range( m ):\n",
    "            r1 = sas.merge2( x )\n",
    "    with Timer() as t0_qs:  \n",
    "        r_qs = x.copy()\n",
    "        for _ in range( m ):\n",
    "            sas.quick_sort( r_qs )\n",
    "    with Timer() as t1:\n",
    "        for _ in range( m ):\n",
    "            e = np.sort( x, kind='merge' )\n",
    "    print( 'nb/np performance %s %s'%(n, t0.interval/t1.interval ))\n",
    "    np.testing.assert_equal( e, r0 )\n",
    "    np.testing.assert_equal( e, r1 )\n",
    "    np.testing.assert_equal( e, r_qs )\n",
    "    ratios[i] = t0.interval/t1.interval\n",
    "    ratios2[i] = t0b.interval/t1.interval\n",
    "    ratios_qs[i] = t0_qs.interval/t1.interval"
   ]
  },
  {
   "cell_type": "code",
   "execution_count": 26,
   "metadata": {
    "collapsed": false
   },
   "outputs": [
    {
     "data": {
      "text/plain": [
       "<matplotlib.legend.Legend at 0x7fdd0e343150>"
      ]
     },
     "execution_count": 26,
     "metadata": {},
     "output_type": "execute_result"
    },
    {
     "data": {
      "image/png": "[encoded data removed]",
      "text/plain": [
       "<matplotlib.figure.Figure at 0x7fdd0e46f890>"
      ]
     },
     "metadata": {},
     "output_type": "display_data"
    }
   ],
   "source": [
    "import matplotlib.pyplot as plt\n",
    "%matplotlib inline\n",
    "plt.plot( ns, ratios, label='v1' )\n",
    "plt.plot( ns, ratios2, label='v2' )\n",
    "plt.plot( ns, ratios_qs, label='qs' )\n",
    "plt.legend()"
   ]
  }
 ],
 "metadata": {
  "kernelspec": {
   "display_name": "Python 3",
   "language": "python",
   "name": "python3"
  },
  "language_info": {
   "codemirror_mode": {
    "name": "ipython",
    "version": 3
   },
   "file_extension": ".py",
   "mimetype": "text/x-python",
   "name": "python",
   "nbconvert_exporter": "python",
   "pygments_lexer": "ipython3",
   "version": "3.3.5"
  }
 },
 "nbformat": 4,
 "nbformat_minor": 0
}
